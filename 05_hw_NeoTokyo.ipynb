{
  "cells": [
    {
      "cell_type": "markdown",
      "metadata": {
        "id": "view-in-github",
        "colab_type": "text"
      },
      "source": [
        "<a href=\"https://colab.research.google.com/github/Guest838/ML_Course-3.0/blob/main/05_hw_NeoTokyo.ipynb\" target=\"_parent\"><img src=\"https://colab.research.google.com/assets/colab-badge.svg\" alt=\"Open In Colab\"/></a>"
      ]
    },
    {
      "cell_type": "code",
      "execution_count": null,
      "metadata": {
        "id": "N6A2zGtJDW4S"
      },
      "outputs": [],
      "source": [
        "import pandas as pd\n",
        "import numpy as np\n",
        "import sklearn"
      ]
    },
    {
      "cell_type": "code",
      "execution_count": null,
      "metadata": {
        "id": "nJ2NU_FnEpxQ"
      },
      "outputs": [],
      "source": [
        "train=pd.read_csv(\"drive/MyDrive/ml-task-cosmos/train.csv\")\n",
        "test=pd.read_csv(\"drive/MyDrive/ml-task-cosmos/test.csv\")\n",
        "train.head()"
      ]
    },
    {
      "cell_type": "code",
      "execution_count": null,
      "metadata": {
        "id": "A76SYuAUGayF"
      },
      "outputs": [],
      "source": [
        "test.head()"
      ]
    },
    {
      "cell_type": "code",
      "execution_count": null,
      "metadata": {
        "id": "KoVKK7-oE9OY"
      },
      "outputs": [],
      "source": [
        "train.describe()"
      ]
    },
    {
      "cell_type": "code",
      "execution_count": null,
      "metadata": {
        "id": "55x9gj-IJ6K1"
      },
      "outputs": [],
      "source": [
        "train.isnull().sum()"
      ]
    },
    {
      "cell_type": "code",
      "execution_count": null,
      "metadata": {
        "id": "Gvec0UqAI7Bw"
      },
      "outputs": [],
      "source": [
        "train[\"target\"].value_counts()"
      ]
    },
    {
      "cell_type": "code",
      "execution_count": null,
      "metadata": {
        "id": "g7x1wAxrKDYe"
      },
      "outputs": [],
      "source": [
        "corr = np.corrcoef(train)\n",
        "print(corr)"
      ]
    },
    {
      "cell_type": "code",
      "execution_count": null,
      "metadata": {
        "id": "lKQpnyozKsBt"
      },
      "outputs": [],
      "source": [
        "y=train['target']\n",
        "X=train.drop(columns={'target'})\n"
      ]
    },
    {
      "cell_type": "code",
      "execution_count": null,
      "metadata": {
        "id": "Gsqi5ivP-7V9"
      },
      "outputs": [],
      "source": [
        "from sklearn.preprocessing import PolynomialFeatures\n",
        "poly = PolynomialFeatures(5)\n",
        "X = poly.fit_transform(X)"
      ]
    },
    {
      "cell_type": "code",
      "execution_count": null,
      "metadata": {
        "colab": {
          "background_save": true
        },
        "id": "AKqiSyFqFtvh"
      },
      "outputs": [],
      "source": [
        "from sklearn.model_selection import train_test_split\n",
        "\n",
        "\n",
        "X_train, X_test, y_train, y_test = train_test_split(\n",
        "    X, y, test_size = 0.1,\n",
        "    shuffle = True)\n"
      ]
    },
    {
      "cell_type": "code",
      "execution_count": null,
      "metadata": {
        "id": "5a5jhq8W7PRu"
      },
      "outputs": [],
      "source": [
        "from sklearn.decomposition import PCA\n",
        "\n",
        "pca = PCA(40)\n",
        "X_train = pca.fit_transform(X_train)\n",
        "X_test = pca.transform(X_test)"
      ]
    },
    {
      "cell_type": "code",
      "execution_count": null,
      "metadata": {
        "id": "l-M49ZsMKiF-"
      },
      "outputs": [],
      "source": [
        "from sklearn.preprocessing import MinMaxScaler\n",
        "\n",
        "scaler = MinMaxScaler()\n",
        "X_train = scaler.fit_transform(X_train)\n",
        "X_test = scaler.transform(X_test)"
      ]
    },
    {
      "cell_type": "code",
      "execution_count": null,
      "metadata": {
        "id": "FqupA1qEP-Pz"
      },
      "outputs": [],
      "source": [
        "!pip install catboost"
      ]
    },
    {
      "cell_type": "code",
      "execution_count": null,
      "metadata": {
        "colab": {
          "background_save": true
        },
        "id": "50EpjoH4PRaD"
      },
      "outputs": [],
      "source": [
        "from catboost import CatBoostClassifier\n",
        "\n",
        "cat = CatBoostClassifier(iterations=1000,\n",
        "                           learning_rate= 0.01,\n",
        "                           loss_function='Logloss',\n",
        "                           verbose=200).fit(X_train, y_train)\n",
        "\n",
        "y_pred = cat.predict(X_test)\n",
        "print(classification_report(y_test, y_pred))"
      ]
    },
    {
      "cell_type": "code",
      "execution_count": null,
      "metadata": {
        "id": "Ri4FMk7H42cI"
      },
      "outputs": [],
      "source": [
        "y_pred.tofile('answers.csv', sep = \"\\n\")"
      ]
    },
    {
      "cell_type": "code",
      "execution_count": null,
      "metadata": {
        "id": "jVzuM_cWnE1Z"
      },
      "outputs": [],
      "source": [
        "cat = CatBoostClassifier(iterations=100,\n",
        "                           loss_function='Logloss',\n",
        "                           verbose=200)\n",
        "grid = {'learning_rate': [0.03, 0.01, 0.05],\n",
        "        'l2_leaf_reg': [1, 3, 5, 7, 9],\n",
        "        'num_trees': [100, 1000, 10000],\n",
        "        }\n",
        "\n",
        "grid_search_result = cat.grid_search(grid,\n",
        "                                       X=X,\n",
        "                                       y=y,\n",
        "                                       plot=True)"
      ]
    },
    {
      "cell_type": "code",
      "execution_count": null,
      "metadata": {
        "id": "vy3_z_l91VCd"
      },
      "outputs": [],
      "source": [
        "print(grid_search_result)"
      ]
    },
    {
      "cell_type": "code",
      "execution_count": null,
      "metadata": {
        "id": "nPaTm96YUwa9"
      },
      "outputs": [],
      "source": [
        "import xgboost as xgb\n",
        "\n",
        "xgb_model = xgb.XGBClassifier(objective=\"binary:logistic\", max_depth = 3,\n",
        "                              n_estimators=10000, learning_rate=0.001, n_jobs=-1)\n",
        "xgb_model.fit(X_train, y_train)\n",
        "y_pred = xgb_model.predict(X_test)\n",
        "print(classification_report(y_test, y_pred))"
      ]
    },
    {
      "cell_type": "code",
      "execution_count": null,
      "metadata": {
        "id": "lewJDD6RHCx4"
      },
      "outputs": [],
      "source": [
        "import lightgbm as lgb\n",
        "from sklearn.metrics import classification_report\n",
        "\n",
        "model = lgb.LGBMClassifier(n_estimators = 10000, learning_rate = 0.001, max_depth=3,\n",
        "                           objective = \"binary\", verbosity = -1).fit(X_train, y_train)\n",
        "y_pred = model.predict(X_test)\n",
        "print(classification_report(y_test, y_pred))"
      ]
    },
    {
      "cell_type": "code",
      "execution_count": null,
      "metadata": {
        "id": "2NLbjQpidqkU"
      },
      "outputs": [],
      "source": [
        "from sklearn.neighbors import KNeighborsClassifier\n",
        "\n",
        "neigh = KNeighborsClassifier(n_neighbors = 10).fit(X_train, y_train)\n",
        "y_pred = neigh.predict(X_test)\n",
        "print(classification_report(y_test, y_pred))"
      ]
    },
    {
      "cell_type": "code",
      "execution_count": null,
      "metadata": {
        "id": "9RctQz6TM2xx"
      },
      "outputs": [],
      "source": [
        "from sklearn.ensemble import RandomForestClassifier\n",
        "from sklearn.metrics import classification_report\n",
        "\n",
        "rf = RandomForestClassifier(n_estimators = 1000, max_depth=3,\n",
        "                            ).fit(X_train, y_train)\n",
        "y_pred = rf.predict(X_test)\n",
        "print(classification_report(y_test, y_pred))"
      ]
    },
    {
      "cell_type": "code",
      "execution_count": null,
      "metadata": {
        "id": "6PpD0RAAhBVW"
      },
      "outputs": [],
      "source": [
        "from sklearn.ensemble import VotingClassifier\n",
        "\n",
        "eclf = VotingClassifier(estimators=[\n",
        "       ('rf', rf), ('cat', cat),(\"light\", model)],\n",
        "       voting = 'hard').fit(X_train, y_train)\n",
        "y_pred = eclf.predict(X_test)\n",
        "print(classification_report(y_test, y_pred))"
      ]
    },
    {
      "cell_type": "code",
      "execution_count": null,
      "metadata": {
        "id": "TF8rq3Q2lE-h"
      },
      "outputs": [],
      "source": [
        "from sklearn.ensemble import BaggingClassifier\n",
        "\n",
        "ccc = BaggingClassifier(estimator=cat,\n",
        "                        bootstrap_features = True,\n",
        "                        n_estimators=5).fit(X_train, y_train)\n",
        "y_pred = ccc.predict(X_test)\n",
        "print(classification_report(y_test, y_pred))"
      ]
    },
    {
      "cell_type": "code",
      "execution_count": null,
      "metadata": {
        "id": "zu_tiV2jTll7"
      },
      "outputs": [],
      "source": [
        "from sklearn.tree import DecisionTreeClassifier\n",
        "tree = DecisionTreeClassifier(max_depth=4).fit(X_train, y_train)\n",
        "y_pred = tree.predict(X_test)\n",
        "print(classification_report(y_test, y_pred))"
      ]
    },
    {
      "cell_type": "code",
      "execution_count": null,
      "metadata": {
        "id": "-5FpY2DAkMyT"
      },
      "outputs": [],
      "source": [
        "from sklearn import svm\n",
        "\n",
        "clf = svm.SVC()\n",
        "clf.fit(X_train, y_train)\n",
        "y_pred = clf.predict(X_test)\n",
        "print(classification_report(y_test, y_pred))"
      ]
    },
    {
      "cell_type": "code",
      "execution_count": null,
      "metadata": {
        "id": "Ek9UERCvX9em"
      },
      "outputs": [],
      "source": [
        "import torch\n",
        "import torchvision\n",
        "from matplotlib import pyplot as plt\n",
        "from torch import nn\n",
        "from torch.nn import functional as F"
      ]
    },
    {
      "cell_type": "code",
      "execution_count": null,
      "metadata": {
        "id": "cx2QsRIAYrSb"
      },
      "outputs": [],
      "source": [
        "CUDA_DEVICE_ID = 0\n",
        "device = (\n",
        "    torch.device(f\"cuda:{CUDA_DEVICE_ID}\") if torch.cuda.is_available() else torch.device(\"cpu\")\n",
        ")"
      ]
    },
    {
      "cell_type": "code",
      "execution_count": null,
      "metadata": {
        "id": "flpIdUpyY37J"
      },
      "outputs": [],
      "source": [
        "model = torch.nn.Sequential(\n",
        "    torch.nn.Linear(16, 14),\n",
        "    torch.nn.Dropout(0,5),\n",
        "    torch.nn.ELU(),\n",
        "    torch.nn.BatchNorm1d(14),\n",
        "    torch.nn.Linear(14, 12),\n",
        "    torch.nn.Dropout(0,5),\n",
        "    torch.nn.ELU(),\n",
        "    torch.nn.BatchNorm1d(12),\n",
        "    torch.nn.Linear(12, 10),\n",
        "    torch.nn.Dropout(0,5),\n",
        "    torch.nn.ELU(),\n",
        "    torch.nn.BatchNorm1d(10),\n",
        "    torch.nn.Linear(10,8),\n",
        "    torch.nn.Dropout(0,5),\n",
        "    torch.nn.ELU(),\n",
        "    torch.nn.BatchNorm1d(8),\n",
        "    torch.nn.Linear(8,6),\n",
        "    torch.nn.Dropout(0,5),\n",
        "    torch.nn.ELU(),\n",
        "    torch.nn.BatchNorm1d(6),\n",
        "    torch.nn.Linear(6, 4),\n",
        "    torch.nn.Dropout(0,5),\n",
        "    torch.nn.ELU(),\n",
        "    torch.nn.BatchNorm1d(4),\n",
        "    torch.nn.Linear(4, 1),\n",
        "    torch.nn.Sigmoid()\n",
        ")"
      ]
    },
    {
      "cell_type": "code",
      "execution_count": null,
      "metadata": {
        "id": "f09dvtBKZlmx"
      },
      "outputs": [],
      "source": [
        "model.to(device)"
      ]
    },
    {
      "cell_type": "code",
      "execution_count": null,
      "metadata": {
        "id": "yzjY7qQGBNxe"
      },
      "outputs": [],
      "source": [
        "import torch.utils.data as data_utils\n",
        "\n",
        "X_train = np.array(X_train, dtype = np.float32)\n",
        "y_train = np.array(y_train, dtype = np.float32)\n",
        "X_train = torch.from_numpy(X_train)\n",
        "y_train = torch.from_numpy(y_train)\n",
        "train_data = data_utils.TensorDataset(X_train, y_train)\n",
        "train_loader = data_utils.DataLoader(train_data,\n",
        "                                     batch_size=50, shuffle=True)\n",
        "\n",
        "X_test = np.array(X_test, dtype = np.float32)\n",
        "y_test = np.array(y_test, dtype = np.float32)\n",
        "X_test = torch.from_numpy(X_test)\n",
        "y_test = torch.from_numpy(y_test)\n",
        "test_data = data_utils.TensorDataset(X_test, y_test)\n",
        "test_loader = data_utils.DataLoader(test_data,\n",
        "                                     batch_size=50, shuffle=True)\n",
        "\n"
      ]
    },
    {
      "cell_type": "code",
      "execution_count": null,
      "metadata": {
        "id": "bAPZc9dWZ9Jt"
      },
      "outputs": [],
      "source": [
        "loss_fn = torch.nn.BCELoss()\n",
        "optimizer = torch.optim.AdamW(model.parameters(), lr=3e-5)\n",
        "epochs = 1000\n",
        "for epoch in range(epochs):\n",
        "    running_loss = 0\n",
        "    for inputs, labels in train_loader:\n",
        "        outputs = model(inputs)\n",
        "        labels =  labels.unsqueeze(1)\n",
        "        loss = loss_fn(outputs, labels)\n",
        "\n",
        "\n",
        "        optimizer.zero_grad()\n",
        "        loss.backward()\n",
        "        optimizer.step()\n",
        "\n",
        "        running_loss += loss.item()\n",
        "\n",
        "    print(f\"Epoch {epoch+1}/{epochs}, Loss: {running_loss/len(train_loader)}\")"
      ]
    },
    {
      "cell_type": "code",
      "execution_count": null,
      "metadata": {
        "id": "-bN8FhO2K_c8"
      },
      "outputs": [],
      "source": [
        "def get_accuracy(model, data_loader):\n",
        "    predicted_labels = []\n",
        "    real_labels = []\n",
        "    model.eval()\n",
        "    with torch.no_grad():\n",
        "        for batch in data_loader:\n",
        "            y_predicted = model(batch[0].to(device))\n",
        "            predicted_labels.append(y_predicted.argmax(dim=1).cpu())\n",
        "            real_labels.append(batch[1])\n",
        "\n",
        "    predicted_labels = torch.cat(predicted_labels)\n",
        "    real_labels = torch.cat(real_labels)\n",
        "    accuracy_score = (predicted_labels == real_labels).type(torch.FloatTensor).mean()\n",
        "    return accuracy_score"
      ]
    },
    {
      "cell_type": "code",
      "execution_count": null,
      "metadata": {
        "id": "7TKLVj1vKxq9"
      },
      "outputs": [],
      "source": [
        "train_acc_task_1 = get_accuracy(model, train_loader)\n",
        "print(f\"Neural network accuracy on train set: {train_acc_task_1:3.5}\")"
      ]
    },
    {
      "cell_type": "code",
      "execution_count": null,
      "metadata": {
        "id": "pSQDkk1xN92p"
      },
      "outputs": [],
      "source": [
        "test_acc_task_1 = get_accuracy(model, test_loader)\n",
        "print(f\"Neural network accuracy on test set: {test_acc_task_1:3.5}\")"
      ]
    }
  ],
  "metadata": {
    "colab": {
      "provenance": [],
      "mount_file_id": "1lNL3JoMnDaxeBhUXCfETQDRaaZnHLH7V",
      "authorship_tag": "ABX9TyMnHIViPrbx3kUr3ia6GoN+",
      "include_colab_link": true
    },
    "kernelspec": {
      "display_name": "Python 3",
      "name": "python3"
    },
    "language_info": {
      "name": "python"
    }
  },
  "nbformat": 4,
  "nbformat_minor": 0
}